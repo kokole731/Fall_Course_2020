{
 "metadata": {
  "language_info": {
   "codemirror_mode": {
    "name": "ipython",
    "version": 3
   },
   "file_extension": ".py",
   "mimetype": "text/x-python",
   "name": "python",
   "nbconvert_exporter": "python",
   "pygments_lexer": "ipython3",
   "version": "3.6.10-final"
  },
  "orig_nbformat": 2,
  "kernelspec": {
   "name": "Python 3.6.10 64-bit ('pytorch': conda)",
   "display_name": "Python 3.6.10 64-bit ('pytorch': conda)",
   "metadata": {
    "interpreter": {
     "hash": "d9fe4a78ccc00419305087d6bb1dad5fd81bd37f4bdc039cca38d34ac6a4d4f5"
    }
   }
  }
 },
 "nbformat": 4,
 "nbformat_minor": 2,
 "cells": [
  {
   "cell_type": "code",
   "execution_count": 2,
   "metadata": {},
   "outputs": [],
   "source": [
    "import numpy as np\n",
    "import pandas as pd"
   ]
  },
  {
   "cell_type": "code",
   "execution_count": 14,
   "metadata": {},
   "outputs": [],
   "source": [
    "housing_pd = pd.read_csv('housing.csv', sep='\\t', header=None)"
   ]
  },
  {
   "cell_type": "code",
   "execution_count": 15,
   "metadata": {},
   "outputs": [
    {
     "output_type": "execute_result",
     "data": {
      "text/plain": "                                                     0\n0     0.00632  18.00   2.310  0  0.5380  6.5750  65...\n1     0.02731   0.00   7.070  0  0.4690  6.4210  78...\n2     0.02729   0.00   7.070  0  0.4690  7.1850  61...\n3     0.03237   0.00   2.180  0  0.4580  6.9980  45...\n4     0.06905   0.00   2.180  0  0.4580  7.1470  54...\n..                                                 ...\n501   0.06263   0.00  11.930  0  0.5730  6.5930  69...\n502   0.04527   0.00  11.930  0  0.5730  6.1200  76...\n503   0.06076   0.00  11.930  0  0.5730  6.9760  91...\n504   0.10959   0.00  11.930  0  0.5730  6.7940  89...\n505   0.04741   0.00  11.930  0  0.5730  6.0300  80...\n\n[506 rows x 1 columns]",
      "text/html": "<div>\n<style scoped>\n    .dataframe tbody tr th:only-of-type {\n        vertical-align: middle;\n    }\n\n    .dataframe tbody tr th {\n        vertical-align: top;\n    }\n\n    .dataframe thead th {\n        text-align: right;\n    }\n</style>\n<table border=\"1\" class=\"dataframe\">\n  <thead>\n    <tr style=\"text-align: right;\">\n      <th></th>\n      <th>0</th>\n    </tr>\n  </thead>\n  <tbody>\n    <tr>\n      <td>0</td>\n      <td>0.00632  18.00   2.310  0  0.5380  6.5750  65...</td>\n    </tr>\n    <tr>\n      <td>1</td>\n      <td>0.02731   0.00   7.070  0  0.4690  6.4210  78...</td>\n    </tr>\n    <tr>\n      <td>2</td>\n      <td>0.02729   0.00   7.070  0  0.4690  7.1850  61...</td>\n    </tr>\n    <tr>\n      <td>3</td>\n      <td>0.03237   0.00   2.180  0  0.4580  6.9980  45...</td>\n    </tr>\n    <tr>\n      <td>4</td>\n      <td>0.06905   0.00   2.180  0  0.4580  7.1470  54...</td>\n    </tr>\n    <tr>\n      <td>...</td>\n      <td>...</td>\n    </tr>\n    <tr>\n      <td>501</td>\n      <td>0.06263   0.00  11.930  0  0.5730  6.5930  69...</td>\n    </tr>\n    <tr>\n      <td>502</td>\n      <td>0.04527   0.00  11.930  0  0.5730  6.1200  76...</td>\n    </tr>\n    <tr>\n      <td>503</td>\n      <td>0.06076   0.00  11.930  0  0.5730  6.9760  91...</td>\n    </tr>\n    <tr>\n      <td>504</td>\n      <td>0.10959   0.00  11.930  0  0.5730  6.7940  89...</td>\n    </tr>\n    <tr>\n      <td>505</td>\n      <td>0.04741   0.00  11.930  0  0.5730  6.0300  80...</td>\n    </tr>\n  </tbody>\n</table>\n<p>506 rows × 1 columns</p>\n</div>"
     },
     "metadata": {},
     "execution_count": 15
    }
   ],
   "source": [
    "housing_pd"
   ]
  },
  {
   "cell_type": "code",
   "execution_count": 20,
   "metadata": {},
   "outputs": [],
   "source": [
    "columns = ['CRIM', 'ZN', 'INDUS', 'CHAS', 'NOX', 'RM', 'AGE', 'DIS', 'RAD', 'TAX', 'PTRATIO', 'B', 'LSTAT', 'MEDV']"
   ]
  },
  {
   "cell_type": "code",
   "execution_count": 35,
   "metadata": {},
   "outputs": [],
   "source": [
    "data_matrix = [housing_pd[0][i].split() for i in range(len(housing_pd[0]))]"
   ]
  },
  {
   "cell_type": "code",
   "execution_count": 36,
   "metadata": {},
   "outputs": [
    {
     "output_type": "execute_result",
     "data": {
      "text/plain": "0      0.00632\n1      0.02731\n2      0.02729\n3      0.03237\n4      0.06905\n        ...   \n501    0.06263\n502    0.04527\n503    0.06076\n504    0.10959\n505    0.04741\nLength: 506, dtype: object"
     },
     "metadata": {},
     "execution_count": 36
    }
   ],
   "source": [
    "pd.Series([data_matrix[i][0] for i in range(len(data_matrix))])"
   ]
  },
  {
   "cell_type": "code",
   "execution_count": 37,
   "metadata": {},
   "outputs": [],
   "source": [
    "for idx, column in enumerate(columns):\n",
    "    column_series =  pd.Series([data_matrix[i][idx] for i in range(len(data_matrix))])\n",
    "    housing_pd[column] = column_series"
   ]
  },
  {
   "cell_type": "code",
   "execution_count": 39,
   "metadata": {},
   "outputs": [],
   "source": [
    "housing_pd = housing_pd.drop(0, axis=1)"
   ]
  },
  {
   "cell_type": "code",
   "execution_count": 41,
   "metadata": {},
   "outputs": [
    {
     "output_type": "execute_result",
     "data": {
      "text/plain": "            CRIM    ZN   INDUS CHAS     NOX      RM     AGE     DIS  RAD  \\\ncount        506   506     506  506     506     506     506     506  506   \nunique       504    26      76    2      81     446     356     412    9   \ntop     14.33370  0.00  18.100    0  0.5380  6.1670  100.00  3.4952   24   \nfreq           2   372     132  471      23       3      43       5  132   \n\n          TAX PTRATIO       B LSTAT   MEDV  \ncount     506     506     506   506    506  \nunique     66      46     357   455    229  \ntop     666.0   20.20  396.90  7.79  50.00  \nfreq      132     140     121     3     16  ",
      "text/html": "<div>\n<style scoped>\n    .dataframe tbody tr th:only-of-type {\n        vertical-align: middle;\n    }\n\n    .dataframe tbody tr th {\n        vertical-align: top;\n    }\n\n    .dataframe thead th {\n        text-align: right;\n    }\n</style>\n<table border=\"1\" class=\"dataframe\">\n  <thead>\n    <tr style=\"text-align: right;\">\n      <th></th>\n      <th>CRIM</th>\n      <th>ZN</th>\n      <th>INDUS</th>\n      <th>CHAS</th>\n      <th>NOX</th>\n      <th>RM</th>\n      <th>AGE</th>\n      <th>DIS</th>\n      <th>RAD</th>\n      <th>TAX</th>\n      <th>PTRATIO</th>\n      <th>B</th>\n      <th>LSTAT</th>\n      <th>MEDV</th>\n    </tr>\n  </thead>\n  <tbody>\n    <tr>\n      <td>count</td>\n      <td>506</td>\n      <td>506</td>\n      <td>506</td>\n      <td>506</td>\n      <td>506</td>\n      <td>506</td>\n      <td>506</td>\n      <td>506</td>\n      <td>506</td>\n      <td>506</td>\n      <td>506</td>\n      <td>506</td>\n      <td>506</td>\n      <td>506</td>\n    </tr>\n    <tr>\n      <td>unique</td>\n      <td>504</td>\n      <td>26</td>\n      <td>76</td>\n      <td>2</td>\n      <td>81</td>\n      <td>446</td>\n      <td>356</td>\n      <td>412</td>\n      <td>9</td>\n      <td>66</td>\n      <td>46</td>\n      <td>357</td>\n      <td>455</td>\n      <td>229</td>\n    </tr>\n    <tr>\n      <td>top</td>\n      <td>14.33370</td>\n      <td>0.00</td>\n      <td>18.100</td>\n      <td>0</td>\n      <td>0.5380</td>\n      <td>6.1670</td>\n      <td>100.00</td>\n      <td>3.4952</td>\n      <td>24</td>\n      <td>666.0</td>\n      <td>20.20</td>\n      <td>396.90</td>\n      <td>7.79</td>\n      <td>50.00</td>\n    </tr>\n    <tr>\n      <td>freq</td>\n      <td>2</td>\n      <td>372</td>\n      <td>132</td>\n      <td>471</td>\n      <td>23</td>\n      <td>3</td>\n      <td>43</td>\n      <td>5</td>\n      <td>132</td>\n      <td>132</td>\n      <td>140</td>\n      <td>121</td>\n      <td>3</td>\n      <td>16</td>\n    </tr>\n  </tbody>\n</table>\n</div>"
     },
     "metadata": {},
     "execution_count": 41
    }
   ],
   "source": [
    "housing_pd.describe()"
   ]
  },
  {
   "cell_type": "code",
   "execution_count": 42,
   "metadata": {
    "tags": []
   },
   "outputs": [
    {
     "output_type": "stream",
     "name": "stdout",
     "text": "&lt;class &#39;pandas.core.frame.DataFrame&#39;&gt;\nRangeIndex: 506 entries, 0 to 505\nData columns (total 14 columns):\nCRIM       506 non-null object\nZN         506 non-null object\nINDUS      506 non-null object\nCHAS       506 non-null object\nNOX        506 non-null object\nRM         506 non-null object\nAGE        506 non-null object\nDIS        506 non-null object\nRAD        506 non-null object\nTAX        506 non-null object\nPTRATIO    506 non-null object\nB          506 non-null object\nLSTAT      506 non-null object\nMEDV       506 non-null object\ndtypes: object(14)\nmemory usage: 55.5+ KB\n"
    }
   ],
   "source": [
    "housing_pd.info()"
   ]
  },
  {
   "cell_type": "code",
   "execution_count": 52,
   "metadata": {},
   "outputs": [],
   "source": [
    "housing_pd.to_csv(\"housing_data.csv\", index=0)"
   ]
  },
  {
   "cell_type": "code",
   "execution_count": 53,
   "metadata": {},
   "outputs": [],
   "source": [
    "housing_data = pd.read_csv('housing_data.csv', index_col=False)"
   ]
  },
  {
   "cell_type": "code",
   "execution_count": 54,
   "metadata": {},
   "outputs": [
    {
     "output_type": "execute_result",
     "data": {
      "text/plain": "      CRIM    ZN  INDUS  CHAS    NOX     RM   AGE     DIS  RAD    TAX  \\\n0  0.00632  18.0   2.31     0  0.538  6.575  65.2  4.0900    1  296.0   \n1  0.02731   0.0   7.07     0  0.469  6.421  78.9  4.9671    2  242.0   \n2  0.02729   0.0   7.07     0  0.469  7.185  61.1  4.9671    2  242.0   \n3  0.03237   0.0   2.18     0  0.458  6.998  45.8  6.0622    3  222.0   \n4  0.06905   0.0   2.18     0  0.458  7.147  54.2  6.0622    3  222.0   \n\n   PTRATIO       B  LSTAT  MEDV  \n0     15.3  396.90   4.98  24.0  \n1     17.8  396.90   9.14  21.6  \n2     17.8  392.83   4.03  34.7  \n3     18.7  394.63   2.94  33.4  \n4     18.7  396.90   5.33  36.2  ",
      "text/html": "<div>\n<style scoped>\n    .dataframe tbody tr th:only-of-type {\n        vertical-align: middle;\n    }\n\n    .dataframe tbody tr th {\n        vertical-align: top;\n    }\n\n    .dataframe thead th {\n        text-align: right;\n    }\n</style>\n<table border=\"1\" class=\"dataframe\">\n  <thead>\n    <tr style=\"text-align: right;\">\n      <th></th>\n      <th>CRIM</th>\n      <th>ZN</th>\n      <th>INDUS</th>\n      <th>CHAS</th>\n      <th>NOX</th>\n      <th>RM</th>\n      <th>AGE</th>\n      <th>DIS</th>\n      <th>RAD</th>\n      <th>TAX</th>\n      <th>PTRATIO</th>\n      <th>B</th>\n      <th>LSTAT</th>\n      <th>MEDV</th>\n    </tr>\n  </thead>\n  <tbody>\n    <tr>\n      <td>0</td>\n      <td>0.00632</td>\n      <td>18.0</td>\n      <td>2.31</td>\n      <td>0</td>\n      <td>0.538</td>\n      <td>6.575</td>\n      <td>65.2</td>\n      <td>4.0900</td>\n      <td>1</td>\n      <td>296.0</td>\n      <td>15.3</td>\n      <td>396.90</td>\n      <td>4.98</td>\n      <td>24.0</td>\n    </tr>\n    <tr>\n      <td>1</td>\n      <td>0.02731</td>\n      <td>0.0</td>\n      <td>7.07</td>\n      <td>0</td>\n      <td>0.469</td>\n      <td>6.421</td>\n      <td>78.9</td>\n      <td>4.9671</td>\n      <td>2</td>\n      <td>242.0</td>\n      <td>17.8</td>\n      <td>396.90</td>\n      <td>9.14</td>\n      <td>21.6</td>\n    </tr>\n    <tr>\n      <td>2</td>\n      <td>0.02729</td>\n      <td>0.0</td>\n      <td>7.07</td>\n      <td>0</td>\n      <td>0.469</td>\n      <td>7.185</td>\n      <td>61.1</td>\n      <td>4.9671</td>\n      <td>2</td>\n      <td>242.0</td>\n      <td>17.8</td>\n      <td>392.83</td>\n      <td>4.03</td>\n      <td>34.7</td>\n    </tr>\n    <tr>\n      <td>3</td>\n      <td>0.03237</td>\n      <td>0.0</td>\n      <td>2.18</td>\n      <td>0</td>\n      <td>0.458</td>\n      <td>6.998</td>\n      <td>45.8</td>\n      <td>6.0622</td>\n      <td>3</td>\n      <td>222.0</td>\n      <td>18.7</td>\n      <td>394.63</td>\n      <td>2.94</td>\n      <td>33.4</td>\n    </tr>\n    <tr>\n      <td>4</td>\n      <td>0.06905</td>\n      <td>0.0</td>\n      <td>2.18</td>\n      <td>0</td>\n      <td>0.458</td>\n      <td>7.147</td>\n      <td>54.2</td>\n      <td>6.0622</td>\n      <td>3</td>\n      <td>222.0</td>\n      <td>18.7</td>\n      <td>396.90</td>\n      <td>5.33</td>\n      <td>36.2</td>\n    </tr>\n  </tbody>\n</table>\n</div>"
     },
     "metadata": {},
     "execution_count": 54
    }
   ],
   "source": [
    "housing_data.head()"
   ]
  },
  {
   "cell_type": "code",
   "execution_count": null,
   "metadata": {},
   "outputs": [],
   "source": [
    "from sklearn"
   ]
  },
  {
   "cell_type": "code",
   "execution_count": null,
   "metadata": {},
   "outputs": [],
   "source": []
  },
  {
   "cell_type": "code",
   "execution_count": null,
   "metadata": {},
   "outputs": [],
   "source": []
  },
  {
   "cell_type": "code",
   "execution_count": null,
   "metadata": {},
   "outputs": [],
   "source": []
  }
 ]
}